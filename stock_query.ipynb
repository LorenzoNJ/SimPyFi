{
 "cells": [
  {
   "cell_type": "code",
   "execution_count": 1,
   "metadata": {},
   "outputs": [
    {
     "ename": "ModuleNotFoundError",
     "evalue": "No module named 'yfinance'",
     "output_type": "error",
     "traceback": [
      "\u001b[0;31m---------------------------------------------------------------------------\u001b[0m",
      "\u001b[0;31mModuleNotFoundError\u001b[0m                       Traceback (most recent call last)",
      "\u001b[0;32m<ipython-input-1-359236bf4eee>\u001b[0m in \u001b[0;36m<module>\u001b[0;34m\u001b[0m\n\u001b[1;32m      2\u001b[0m \u001b[0;31m# https://aroussi.com/post/python-yahoo-finance\u001b[0m\u001b[0;34m\u001b[0m\u001b[0;34m\u001b[0m\u001b[0;34m\u001b[0m\u001b[0m\n\u001b[1;32m      3\u001b[0m \u001b[0;31m# https://pandas-datareader.readthedocs.io/en/latest/remote_data.html#historical-time-series-data\u001b[0m\u001b[0;34m\u001b[0m\u001b[0;34m\u001b[0m\u001b[0;34m\u001b[0m\u001b[0m\n\u001b[0;32m----> 4\u001b[0;31m \u001b[0;32mimport\u001b[0m \u001b[0myfinance\u001b[0m \u001b[0;32mas\u001b[0m \u001b[0myf\u001b[0m\u001b[0;34m\u001b[0m\u001b[0;34m\u001b[0m\u001b[0m\n\u001b[0m\u001b[1;32m      5\u001b[0m \u001b[0;32mfrom\u001b[0m \u001b[0mpandas_datareader\u001b[0m \u001b[0;32mimport\u001b[0m \u001b[0mdata\u001b[0m \u001b[0;32mas\u001b[0m \u001b[0mweb\u001b[0m\u001b[0;34m\u001b[0m\u001b[0;34m\u001b[0m\u001b[0m\n\u001b[1;32m      6\u001b[0m \u001b[0mALPHAVANTAGE_API_KEY\u001b[0m \u001b[0;34m=\u001b[0m \u001b[0;34m\"E2S9WCQXMIMBMR61\"\u001b[0m\u001b[0;34m\u001b[0m\u001b[0;34m\u001b[0m\u001b[0m\n",
      "\u001b[0;31mModuleNotFoundError\u001b[0m: No module named 'yfinance'"
     ]
    }
   ],
   "source": [
    "# import export\n",
    "# https://aroussi.com/post/python-yahoo-finance\n",
    "# https://pandas-datareader.readthedocs.io/en/latest/remote_data.html#historical-time-series-data\n",
    "import yfinance as yf\n",
    "from pandas_datareader import data as web\n",
    "ALPHAVANTAGE_API_KEY = \"E2S9WCQXMIMBMR61\"\n",
    "AVAILABLE_THREADS = 2\n",
    "\n",
    "#coucouniels\n",
    "# finance libraries\n",
    "import pandas as pd\n",
    "import numpy as np\n",
    "\n",
    "# plot libraries \n",
    "import seaborn as sns\n",
    "from matplotlib.ticker import AutoMinorLocator\n",
    "import matplotlib.pyplot as plt\n",
    "plt.rcParams[\"figure.figsize\"] = (15,5)\n",
    "\n"
   ]
  },
  {
   "cell_type": "code",
   "execution_count": null,
   "metadata": {},
   "outputs": [],
   "source": [
    "# Retrieving tickers symbols\n",
    "\n",
    "# stocks\n",
    "stock_list = pd.read_csv('data_finance/stocks.csv')['symbol_yf'].tolist()\n",
    "# index\n",
    "index_csv = pd.read_csv('data_finance/index.csv')\n",
    "pref_index = ['^DJI','^IXIC','^FCHI', '^FTSE', '^STOXX50E', '^HSI', '^N225']\n",
    "index_list = index_csv[index_csv['symbol_yf'].isin(['^DJI','^IXIC','^FCHI', '^FTSE', '^STOXX50E', '^HSI', '^N225'])]['symbol_yf'].tolist()\n",
    "# vix\n",
    "vix_list = pd.read_csv('data_finance/vix.csv')['symbol_fred'].tolist()\n",
    "# currency\n",
    "currency_list = pd.read_csv('data_finance/currencies.csv')['symbol_yf'].tolist()"
   ]
  },
  {
   "cell_type": "code",
   "execution_count": null,
   "metadata": {},
   "outputs": [],
   "source": [
    "msft = yf.Ticker(\"IBM\")\n",
    "# get stock info\n",
    "msft.info\n",
    "percentage_div = msft.dividends / msft.history(period=\"max\")['Close'].loc[msft.dividends.index]\n",
    "\n",
    "fig, ax1 = plt.subplots()\n",
    "\n",
    "color = 'tab:red'\n",
    "ax1.set_xlabel('time (s)')\n",
    "ax1.set_ylabel('percentage_div', color=color)\n",
    "ax1.plot(percentage_div, color=color)\n",
    "ax1.tick_params(axis='y', labelcolor=color)\n",
    "\n",
    "ax2 = ax1.twinx()  # instantiate a second axes that shares the same x-axis\n",
    "\n",
    "color = 'tab:blue'\n",
    "ax2.set_ylabel('absolute_div', color=color)  # we already handled the x-label with ax1\n",
    "ax2.plot(msft.dividends, color=color)\n",
    "ax2.tick_params(axis='y', labelcolor=color)\n",
    "\n",
    "fig.tight_layout()  # otherwise the right y-label is slightly clipped\n",
    "plt.show()"
   ]
  },
  {
   "cell_type": "code",
   "execution_count": null,
   "metadata": {},
   "outputs": [],
   "source": [
    "#ajouter au graph d'au dessus avec un 3eme axe\n",
    "msft.history(period='max')['Close'].plot()\n"
   ]
  },
  {
   "cell_type": "code",
   "execution_count": null,
   "metadata": {},
   "outputs": [],
   "source": [
    "data = yf.download(stock_list, period=\"3mo\", thread = AVAILABLE_THREADS)['Close']\n",
    "data.plot()\n",
    "plt.show()\n"
   ]
  },
  {
   "cell_type": "code",
   "execution_count": null,
   "metadata": {},
   "outputs": [],
   "source": [
    "data = yf.download(index_list, period=\"1Y\", thread = AVAILABLE_THREADS)['Close']\n",
    "data.plot()\n",
    "plt.legend(bbox_to_anchor=(1.05, 1), loc='upper left', borderaxespad=0.)\n",
    "plt.show()\n"
   ]
  },
  {
   "cell_type": "code",
   "execution_count": null,
   "metadata": {},
   "outputs": [],
   "source": [
    "# running various draws of most common index \n",
    "favourite_index = ['^DJI','^IXIC','^FCHI', '^FTSE', '^STOXX50E', '^HSI', '^N225']\n",
    "scaled_index = data[favourite_index]/data[favourite_index].iloc[1]\n",
    "scaled_index.to_csv('logs/prefered_scaled_index.csv')\n",
    "ax = sns.violinplot(data=scaled_index)"
   ]
  },
  {
   "cell_type": "code",
   "execution_count": null,
   "metadata": {},
   "outputs": [],
   "source": [
    "scaled_index.plot()\n",
    "plt.legend(bbox_to_anchor=(1.05, 1), loc='upper left', borderaxespad=0.)\n",
    "plt.show()"
   ]
  },
  {
   "cell_type": "code",
   "execution_count": null,
   "metadata": {},
   "outputs": [],
   "source": [
    "# retrieving vix volatilities levels\n",
    "vixs = web.DataReader(vix_list, data_source='fred', start='2010-1-1', api_key=ALPHAVANTAGE_API_KEY)\n",
    "vixs.plot()"
   ]
  },
  {
   "cell_type": "code",
   "execution_count": null,
   "metadata": {},
   "outputs": [],
   "source": [
    "# retrieving exchange rates\n",
    "fx = yf.download(' EURJPY=X', period=\"1Y\", thread = AVAILABLE_THREADS)\n"
   ]
  },
  {
   "cell_type": "code",
   "execution_count": null,
   "metadata": {},
   "outputs": [],
   "source": [
    "fx = yf.download(currency_list, period=\"1Y\", thread = AVAILABLE_THREADS)\n"
   ]
  },
  {
   "cell_type": "code",
   "execution_count": null,
   "metadata": {},
   "outputs": [],
   "source": [
    "fx"
   ]
  },
  {
   "cell_type": "code",
   "execution_count": null,
   "metadata": {},
   "outputs": [],
   "source": []
  },
  {
   "cell_type": "code",
   "execution_count": null,
   "metadata": {},
   "outputs": [],
   "source": []
  }
 ],
 "metadata": {
  "kernelspec": {
   "display_name": "Python 3",
   "language": "python",
   "name": "python3"
  },
  "language_info": {
   "codemirror_mode": {
    "name": "ipython",
    "version": 3
   },
   "file_extension": ".py",
   "mimetype": "text/x-python",
   "name": "python",
   "nbconvert_exporter": "python",
   "pygments_lexer": "ipython3",
   "version": "3.7.1"
  }
 },
 "nbformat": 4,
 "nbformat_minor": 2
}
